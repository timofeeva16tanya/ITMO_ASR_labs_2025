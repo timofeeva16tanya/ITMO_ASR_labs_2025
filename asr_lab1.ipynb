{
 "cells": [
  {
   "cell_type": "markdown",
   "id": "7e5b3f1c-f656-4b44-9385-7bfcd1558469",
   "metadata": {},
   "source": [
    "# Лабораторная работа 1. Подсчет ошибки распознавания"
   ]
  },
  {
   "cell_type": "markdown",
   "id": "8e5c72b7-e242-412c-851c-02479bff8773",
   "metadata": {},
   "source": [
    "WER (Word Error Rate) является метрикой для оценки качества систем распознавания речи. Она показывает процент ошибочных слов в гипотезе распознавания по сравнению с эталонным текстом. WER учитывает три типа ошибок: вставки, удаления и замены. \n",
    "$$ WER = {I + D + S \\over D + S + C} $$\n",
    "где I, D, S - количество втавок, удалений и замен, соответственно. C - количество правильно распознанных слов"
   ]
  },
  {
   "cell_type": "markdown",
   "id": "aa45f820-960d-47bd-bd7d-9bd284a239d7",
   "metadata": {},
   "source": [
    "Лабораторная работа состоит из трех частей. Первая часть (функция подсчета WER) обязательная, остальные дополнительные. Всего за работу можно получить максимум 16 баллов. 4 за сдачу в срок и 12 за задания: \n",
    "* функция подсчета WER (тест 1.a, 1.b) - 8 баллов"
   ]
  },
  {
   "cell_type": "markdown",
   "id": "e7765f57-93d1-4310-b2c6-b88189c16099",
   "metadata": {},
   "source": [
    "# 1. Word Error Rate (8 баллов)"
   ]
  },
  {
   "cell_type": "markdown",
   "id": "1af47bb7-3c52-4d0f-aa72-426bad9089fc",
   "metadata": {},
   "source": [
    "## 1.a. подсчет WER \n",
    "\n",
    "\n",
    "Функция должна принимать две строки в качестве входных данных: эталонный текст и распознанный текст. Эталонный текст - это то, что произносится в аудиозаписи, а гипотеза распознавания - это текст, полученный от системы распознавания речи. Для корректного вычисления ошибки распознавания необходимо удалить все символы пунктуации и привести все слова к нижнему регистру.\n",
    "\n"
   ]
  },
  {
   "cell_type": "code",
   "execution_count": 1,
   "id": "06e89202-5b26-4a55-b3a0-2e1996d07552",
   "metadata": {},
   "outputs": [
    {
     "name": "stdout",
     "output_type": "stream",
     "text": [
      "Word Error Rate: 66.67%\n"
     ]
    }
   ],
   "source": [
    "import string\n",
    "\n",
    "def calculate_wer(reference_text: str, recognized_text: str) -> float:\n",
    "    # Приведение текста к нижнему регистру, удаление символов пунктуации и разбивка на слова\n",
    "    reference_text = reference_text.lower()\n",
    "    recognized_text = recognized_text.lower()\n",
    "\n",
    "    translator = str.maketrans('', '', string.punctuation)\n",
    "    reference_text = reference_text.translate(translator)\n",
    "    recognized_text = recognized_text.translate(translator)\n",
    "\n",
    "    reference_words = reference_text.split()\n",
    "    recognized_words = recognized_text.split()\n",
    "\n",
    "    # расстояние Левенштейна \n",
    "    # Инициализация матрицы для подсчета расстояния между словами\n",
    "    distance_matrix = [[0] * (len(recognized_words) + 1) for _ in range(len(reference_words) + 1)]\n",
    "\n",
    "    # Наполнение первой строки матрицы\n",
    "    for i in range(len(reference_words) + 1):\n",
    "        distance_matrix[i][0] = i\n",
    "\n",
    "    # Наполнение первого столбца матрицы\n",
    "    for j in range(len(recognized_words) + 1):\n",
    "        distance_matrix[0][j] = j\n",
    "\n",
    "    # Заполнение матрицы расстояний методом динамического программирования\n",
    "    for i in range(1, len(reference_words) + 1):\n",
    "        for j in range(1, len(recognized_words) + 1):\n",
    "            if reference_words[i - 1] == recognized_words[j - 1]:\n",
    "                cost = 0\n",
    "            else:\n",
    "                cost = 1\n",
    "            distance_matrix[i][j] = min(\n",
    "                distance_matrix[i - 1][j] + 1,\n",
    "                distance_matrix[i][j - 1] + 1,\n",
    "                distance_matrix[i - 1][j - 1] + cost\n",
    "            )\n",
    "\n",
    "    # Расчет WER  (в процентах)\n",
    "    wer = (distance_matrix[len(reference_words)][len(recognized_words)] / len(reference_words)) * 100\n",
    "    return wer\n",
    "\n",
    "wer = calculate_wer('труд мир балалайка', 'привет, мир!')\n",
    "print(f\"Word Error Rate: {wer:.2f}%\")"
   ]
  },
  {
   "cell_type": "code",
   "execution_count": 2,
   "id": "f604bfbe-3af2-4550-9119-9031b65a06d8",
   "metadata": {},
   "outputs": [
    {
     "name": "stdout",
     "output_type": "stream",
     "text": [
      "Test 1.a passed\n"
     ]
    }
   ],
   "source": [
    "def assert_wer(ref, hyp, ideal_wer):\n",
    "    wer = calculate_wer(ref, hyp)\n",
    "    assert round(wer, 2) == round(ideal_wer, 2), f\"for '{hyp=}' and '{ref=}' {ideal_wer=}, calculate_wer {wer=}\"\n",
    "    \n",
    "def test_wer():\n",
    "    assert_wer('привет студент', 'привет студент', 0)\n",
    "    assert_wer('привет! Студент.', 'Привет, студент?', 0)\n",
    "    assert_wer('привет студент', 'студент', 50)\n",
    "    assert_wer('привет студент', '', 100)\n",
    "    assert_wer('привет студент', 'студент привет', 100)\n",
    "    assert_wer('привет', 'привет студент', 100)\n",
    "    assert_wer('кто-то', 'кто', 100)\n",
    "    assert_wer('привет студент привет как дела', 'студент привет', 60)\n",
    "    assert_wer('привет студент привет как дела', 'привет как дела', 40)\n",
    "    assert_wer('привет студент привет как дела ', 'привет студент дела ', 40)\n",
    "    assert_wer('привет студент привет как дела '*100, 'привет студент дела '*100, 40)\n",
    "\n",
    "    print(f\"Test 1.a passed\")\n",
    "    \n",
    "test_wer() \n",
    "    "
   ]
  },
  {
   "cell_type": "markdown",
   "id": "50b32777-0fae-4999-9843-88313c1e3607",
   "metadata": {},
   "source": [
    "## 1.b. Построение выравнивания\n",
    "Реализованная в части 1.a. функция выдает только суммарное значение ошибки распознавания, не давая понимания, в чем состоят основные проблемы распознавания. \n",
    "\n",
    "Значение WER получается из трех видов ошибок: \n",
    "* вставка (insertion)\n",
    "* удаление (deletion)\n",
    "* замена (substitution)\n",
    "\n",
    "Каждый тип ошибок имеет свое значение и указывает на определенные недостатки системы. Например, большое количество вставок означает, что ASR слышит речь там где ее нет. А большое количество удалений показывает, что целевая речь пропускается и не транскрибируется. \n",
    "\n",
    "Кроме числовых значений каждой ошибки, для анализа результатов работы системы может пригодиться выравнивание эталонной текстовки и гипотезы распознавания относительно друг друга. \n",
    "\n",
    "пример выравнивания: \n",
    "\n",
    "```\n",
    ">>> tabulate(ali)\n",
    "\n",
    "Я сегодня  ***   учуcь  в  универе\n",
    "Я    с    завтра учусь *** универе  \n",
    "C    S      I      C    D    C    \n",
    "```\n",
    "\n",
    "Реализуйте функцию, которая кроме числового значения WER возвращает выравнивание, а также значения каждого типа ошибок распознавания (вставки, удаления, замены)."
   ]
  },
  {
   "cell_type": "code",
   "execution_count": 3,
   "id": "414a0cdb-7230-493a-93ba-2d15547a537a",
   "metadata": {},
   "outputs": [
    {
     "name": "stdout",
     "output_type": "stream",
     "text": [
      "Requirement already satisfied: tabulate in c:\\users\\lezchook\\anaconda3\\envs\\env_1\\lib\\site-packages (0.9.0)\n"
     ]
    }
   ],
   "source": [
    "!pip install tabulate\n",
    "from tabulate import tabulate\n",
    "# используйте tabulate для отладки"
   ]
  },
  {
   "cell_type": "code",
   "execution_count": 4,
   "id": "8d6d7687-ff3a-4a46-80ec-12efcab49027",
   "metadata": {},
   "outputs": [],
   "source": [
    "def calculate_wer_with_alignment(reference_text: str, recognized_text: str):\n",
    "    # Перенесите сюда код из задания 1.a.\n",
    "    #wer = \n",
    "    # Приведение текста к нижнему регистру, удаление символов пунктуации и разбивка на слова\n",
    "    reference_text = reference_text.lower()\n",
    "    recognized_text = recognized_text.lower()\n",
    "\n",
    "    translator = str.maketrans('', '', string.punctuation)\n",
    "    reference_text = reference_text.translate(translator)\n",
    "    recognized_text = recognized_text.translate(translator)\n",
    "\n",
    "    reference_words = reference_text.split()\n",
    "    recognized_words = recognized_text.split()\n",
    "\n",
    "    # расстояние Левенштейна \n",
    "    # Инициализация матрицы для подсчета расстояния между словами\n",
    "    distance_matrix = [[0] * (len(recognized_words) + 1) for _ in range(len(reference_words) + 1)]\n",
    "\n",
    "    # Наполнение первой строки матрицы\n",
    "    for i in range(len(reference_words) + 1):\n",
    "        distance_matrix[i][0] = i\n",
    "\n",
    "    # Наполнение первого столбца матрицы\n",
    "    for j in range(len(recognized_words) + 1):\n",
    "        distance_matrix[0][j] = j\n",
    "\n",
    "    # Заполнение матрицы расстояний методом динамического программирования\n",
    "    for i in range(1, len(reference_words) + 1):\n",
    "        for j in range(1, len(recognized_words) + 1):\n",
    "            if reference_words[i - 1] == recognized_words[j - 1]:\n",
    "                cost = 0\n",
    "            else:\n",
    "                cost = 1\n",
    "            distance_matrix[i][j] = min(\n",
    "                distance_matrix[i - 1][j] + 1,\n",
    "                distance_matrix[i][j - 1] + 1,\n",
    "                distance_matrix[i - 1][j - 1] + cost\n",
    "            )\n",
    "\n",
    "    # Расчет WER  (в процентах)\n",
    "    wer = (distance_matrix[len(reference_words)][len(recognized_words)] / len(reference_words)) * 100\n",
    "\n",
    "    # используя distance_matrix восстановите путь (набор операций), который соответстует найденому WER \n",
    "    # ali[0]=  разбитый по словам референс. Втавки отабражаются в эталонном выравнивании с помощью \"***\"\n",
    "    # ali[1] = разбитая по словам гипотеза.\n",
    "    # ali[2] = аннотация\n",
    "    i = len(reference_words)\n",
    "    j = len(recognized_words)\n",
    "    reference_ali = []\n",
    "    hypotheses_ali =[]\n",
    "    annotation = []\n",
    "    correct = 0\n",
    "    substitution = 0\n",
    "    deletion = 0\n",
    "    insertion = 0\n",
    "\n",
    "    while i > 0 or j > 0:\n",
    "        # Оба слова присутствуют\n",
    "        if i > 0 and j > 0 and distance_matrix[i][j] == distance_matrix[i - 1][j - 1] and reference_words[i - 1] == recognized_words[j - 1]:\n",
    "            reference_ali.append(reference_words[i - 1])\n",
    "            hypotheses_ali.append(recognized_words[j - 1])\n",
    "            annotation.append(\"C\")\n",
    "            correct += 1\n",
    "            i -= 1\n",
    "            j -= 1\n",
    "        # Замена\n",
    "        elif i > 0 and j > 0 and distance_matrix[i][j] == distance_matrix[i - 1][j - 1] + 1:\n",
    "            reference_ali.append(reference_words[i - 1])\n",
    "            hypotheses_ali.append(recognized_words[j - 1])\n",
    "            annotation.append(\"S\")\n",
    "            substitution += 1\n",
    "            i -= 1\n",
    "            j -= 1\n",
    "        # Вставка\n",
    "        elif j > 0 and distance_matrix[i][j] == distance_matrix[i][j - 1] + 1:\n",
    "            reference_ali.append(\"***\")\n",
    "            hypotheses_ali.append(recognized_words[j - 1])\n",
    "            annotation.append(\"I\")\n",
    "            insertion += 1\n",
    "            j -= 1\n",
    "        # Удаление\n",
    "        elif i > 0 and distance_matrix[i][j] == distance_matrix[i - 1][j] + 1:\n",
    "            reference_ali.append(reference_words[i - 1])\n",
    "            hypotheses_ali.append(\"***\")\n",
    "            annotation.append(\"D\")\n",
    "            deletion += 1\n",
    "            i -= 1\n",
    "\n",
    "    reference_ali.reverse()\n",
    "    hypotheses_ali.reverse()\n",
    "    annotation.reverse()\n",
    "    ali = [reference_ali, hypotheses_ali, annotation]\n",
    "    \n",
    "    assert len(ali[0]) == len(ali[1]) == len(ali[2]), f\"wrong ali {ali}\"\n",
    "    \n",
    "    return {\"wer\" : wer,\n",
    "            \"cor\": correct, \n",
    "            \"del\": deletion,\n",
    "            \"ins\": insertion,\n",
    "            \"sub\": substitution,\n",
    "            \"ali\": ali}\n"
   ]
  },
  {
   "cell_type": "code",
   "execution_count": 5,
   "id": "6ff4fe6c-c548-4f60-bcf9-95a164f43645",
   "metadata": {},
   "outputs": [
    {
     "name": "stdout",
     "output_type": "stream",
     "text": [
      "Test 1.b passed\n"
     ]
    }
   ],
   "source": [
    "def assert_wer_with_alignment(ref, hyp, ideal_report):\n",
    "    report = calculate_wer_with_alignment(ref, hyp)\n",
    "    for k, v in ideal_report.items():\n",
    "        if isinstance(v, float):\n",
    "            assert round(v, 2) == round(report[k], 2), f\"for '{hyp=}' and '{ref=}' {ideal_report=}, calculate_wer {report=}\"\n",
    "        else:\n",
    "            assert v == report[k], f\"for '{hyp=}' and '{ref=}' {ideal_report=}, calculate_wer {report=}\"\n",
    "\n",
    "    \n",
    "def test_wer_with_alignment():\n",
    "    assert_wer_with_alignment('привет студент', 'привет студент',  {\n",
    "            \"wer\" : 0,\n",
    "            \"cor\": 2, \n",
    "            \"del\": 0,\n",
    "            \"ins\": 0,\n",
    "            \"sub\": 0,\n",
    "            \"ali\": [[\"привет\", \"студент\"],[\"привет\", \"студент\"],['C', 'C']]})\n",
    "    assert_wer_with_alignment('привет студент', 'студент', {\n",
    "            \"wer\" : 50,\n",
    "            \"cor\": 1, \n",
    "            \"del\": 1,\n",
    "            \"ins\": 0,\n",
    "            \"sub\": 0,\n",
    "            \"ali\": [[\"привет\", \"студент\"],[\"***\", \"студент\"],['D', 'C']]})\n",
    "    assert_wer_with_alignment('привет', 'привет студент', {\n",
    "            \"wer\" : 100,\n",
    "            \"cor\": 1, \n",
    "            \"del\": 0,\n",
    "            \"ins\": 1,\n",
    "            \"sub\": 0,\n",
    "            \"ali\": [[\"привет\", \"***\"],[\"привет\", \"студент\"],['C', 'I']]})\n",
    "    assert_wer_with_alignment('привет студент', 'пока студент',  {\n",
    "            \"wer\" : 50,\n",
    "            \"cor\": 1, \n",
    "            \"del\": 0,\n",
    "            \"ins\": 0,\n",
    "            \"sub\": 1,\n",
    "            \"ali\": [[\"привет\", \"студент\"],[\"пока\", \"студент\"],['S', 'C']]})\n",
    "\n",
    "    print(f\"Test 1.b passed\")\n",
    "    \n",
    "test_wer_with_alignment() "
   ]
  },
  {
   "cell_type": "code",
   "execution_count": null,
   "id": "2f758f45-926e-4d8b-a25f-c28578c6de0a",
   "metadata": {},
   "outputs": [],
   "source": []
  }
 ],
 "metadata": {
  "kernelspec": {
   "display_name": "env_1",
   "language": "python",
   "name": "python3"
  },
  "language_info": {
   "codemirror_mode": {
    "name": "ipython",
    "version": 3
   },
   "file_extension": ".py",
   "mimetype": "text/x-python",
   "name": "python",
   "nbconvert_exporter": "python",
   "pygments_lexer": "ipython3",
   "version": "3.10.18"
  },
  "widgets": {
   "application/vnd.jupyter.widget-state+json": {
    "state": {},
    "version_major": 2,
    "version_minor": 0
   }
  }
 },
 "nbformat": 4,
 "nbformat_minor": 5
}
